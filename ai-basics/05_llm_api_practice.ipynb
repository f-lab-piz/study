{
 "cells": [
  {
   "cell_type": "markdown",
   "metadata": {},
   "source": [
    "# 5. LLM API 기초 실습\n",
    "\n",
    "## 학습 목표\n",
    "- curl과 Python requests로 LLM API 직접 호출하기\n",
    "- API 파라미터(temperature, max_tokens 등) 이해하기\n",
    "- 스트리밍 응답 처리하기"
   ]
  },
  {
   "cell_type": "markdown",
   "metadata": {},
   "source": [
    "## 1. 환경 설정"
   ]
  },
  {
   "cell_type": "code",
   "execution_count": null,
   "metadata": {},
   "outputs": [],
   "source": [
    "!pip install requests python-dotenv -q"
   ]
  },
  {
   "cell_type": "code",
   "execution_count": null,
   "metadata": {},
   "outputs": [],
   "source": [
    "import requests\n",
    "import json\n",
    "import os\n",
    "from dotenv import load_dotenv\n",
    "\n",
    "load_dotenv()\n",
    "OPENAI_API_KEY = os.getenv(\"OPENAI_API_KEY\")\n",
    "\n",
    "if not OPENAI_API_KEY:\n",
    "    print(\"⚠️ .env 파일에 OPENAI_API_KEY를 설정하세요\")\n",
    "else:\n",
    "    print(\"✅ API 키 로드 완료\")"
   ]
  },
  {
   "cell_type": "markdown",
   "metadata": {},
   "source": [
    "## 2. 기본 API 호출\n",
    "\n",
    "### curl 명령어 (터미널에서 실행)\n",
    "```bash\n",
    "curl https://api.openai.com/v1/chat/completions \\\n",
    "  -H \"Content-Type: application/json\" \\\n",
    "  -H \"Authorization: Bearer $OPENAI_API_KEY\" \\\n",
    "  -d '{\n",
    "    \"model\": \"gpt-3.5-turbo\",\n",
    "    \"messages\": [{\"role\": \"user\", \"content\": \"Hello!\"}]\n",
    "  }'\n",
    "```"
   ]
  },
  {
   "cell_type": "markdown",
   "metadata": {},
   "source": [
    "### Python requests로 호출"
   ]
  },
  {
   "cell_type": "code",
   "execution_count": null,
   "metadata": {},
   "outputs": [],
   "source": [
    "def call_openai(prompt: str) -> str:\n",
    "    url = \"https://api.openai.com/v1/chat/completions\"\n",
    "    \n",
    "    headers = {\n",
    "        \"Content-Type\": \"application/json\",\n",
    "        \"Authorization\": f\"Bearer {OPENAI_API_KEY}\"\n",
    "    }\n",
    "    \n",
    "    data = {\n",
    "        \"model\": \"gpt-3.5-turbo\",\n",
    "        \"messages\": [{\"role\": \"user\", \"content\": prompt}]\n",
    "    }\n",
    "    \n",
    "    response = requests.post(url, headers=headers, json=data)\n",
    "    return response.json()[\"choices\"][0][\"message\"][\"content\"]\n",
    "\n",
    "# 테스트\n",
    "result = call_openai(\"Python에서 리스트와 튜플의 차이는?\")\n",
    "print(result)"
   ]
  },
  {
   "cell_type": "markdown",
   "metadata": {},
   "source": [
    "## 3. API 파라미터 실험\n",
    "\n",
    "### 주요 파라미터\n",
    "- **model**: 사용할 모델 (gpt-3.5-turbo, gpt-4 등)\n",
    "- **temperature**: 창의성 조절 (0.0=결정론적, 2.0=매우 창의적)\n",
    "- **max_tokens**: 최대 생성 토큰 수\n",
    "- **messages**: 대화 히스토리 (system, user, assistant)"
   ]
  },
  {
   "cell_type": "code",
   "execution_count": null,
   "metadata": {},
   "outputs": [],
   "source": [
    "def call_openai_advanced(prompt, temperature=0.7, max_tokens=150):\n",
    "    url = \"https://api.openai.com/v1/chat/completions\"\n",
    "    \n",
    "    headers = {\n",
    "        \"Content-Type\": \"application/json\",\n",
    "        \"Authorization\": f\"Bearer {OPENAI_API_KEY}\"\n",
    "    }\n",
    "    \n",
    "    data = {\n",
    "        \"model\": \"gpt-3.5-turbo\",\n",
    "        \"messages\": [{\"role\": \"user\", \"content\": prompt}],\n",
    "        \"temperature\": temperature,\n",
    "        \"max_tokens\": max_tokens\n",
    "    }\n",
    "    \n",
    "    response = requests.post(url, headers=headers, json=data)\n",
    "    result = response.json()\n",
    "    \n",
    "    return {\n",
    "        \"content\": result[\"choices\"][0][\"message\"][\"content\"],\n",
    "        \"usage\": result[\"usage\"]\n",
    "    }\n",
    "\n",
    "# Temperature 비교\n",
    "prompt = \"AI에 대한 한 문장 설명을 써줘\"\n",
    "\n",
    "print(\"Temperature = 0.2 (일관적)\")\n",
    "print(call_openai_advanced(prompt, temperature=0.2)[\"content\"])\n",
    "\n",
    "print(\"\\nTemperature = 1.5 (창의적)\")\n",
    "print(call_openai_advanced(prompt, temperature=1.5)[\"content\"])"
   ]
  },
  {
   "cell_type": "markdown",
   "metadata": {},
   "source": [
    "## 4. 시스템 프롬프트와 멀티턴 대화"
   ]
  },
  {
   "cell_type": "code",
   "execution_count": null,
   "metadata": {},
   "outputs": [],
   "source": [
    "def chat_multiturn(messages):\n",
    "    url = \"https://api.openai.com/v1/chat/completions\"\n",
    "    headers = {\n",
    "        \"Content-Type\": \"application/json\",\n",
    "        \"Authorization\": f\"Bearer {OPENAI_API_KEY}\"\n",
    "    }\n",
    "    data = {\"model\": \"gpt-3.5-turbo\", \"messages\": messages}\n",
    "    response = requests.post(url, headers=headers, json=data)\n",
    "    return response.json()[\"choices\"][0][\"message\"][\"content\"]\n",
    "\n",
    "# 대화 시작\n",
    "conversation = [\n",
    "    {\"role\": \"system\", \"content\": \"너는 친절한 Python 선생님이야.\"},\n",
    "    {\"role\": \"user\", \"content\": \"내 이름은 철수야\"}\n",
    "]\n",
    "\n",
    "response1 = chat_multiturn(conversation)\n",
    "print(f\"Bot: {response1}\\n\")\n",
    "conversation.append({\"role\": \"assistant\", \"content\": response1})\n",
    "\n",
    "# 이전 대화 기억\n",
    "conversation.append({\"role\": \"user\", \"content\": \"내 이름이 뭐였지?\"})\n",
    "response2 = chat_multiturn(conversation)\n",
    "print(f\"Bot: {response2}\")"
   ]
  },
  {
   "cell_type": "markdown",
   "metadata": {},
   "source": [
    "## 5. 스트리밍 응답\n",
    "\n",
    "긴 응답을 실시간으로 받을 때 유용합니다."
   ]
  },
  {
   "cell_type": "code",
   "execution_count": null,
   "metadata": {},
   "outputs": [],
   "source": [
    "def call_openai_streaming(prompt):\n",
    "    url = \"https://api.openai.com/v1/chat/completions\"\n",
    "    headers = {\n",
    "        \"Content-Type\": \"application/json\",\n",
    "        \"Authorization\": f\"Bearer {OPENAI_API_KEY}\"\n",
    "    }\n",
    "    data = {\n",
    "        \"model\": \"gpt-3.5-turbo\",\n",
    "        \"messages\": [{\"role\": \"user\", \"content\": prompt}],\n",
    "        \"stream\": True\n",
    "    }\n",
    "    \n",
    "    response = requests.post(url, headers=headers, json=data, stream=True)\n",
    "    \n",
    "    for line in response.iter_lines():\n",
    "        if line:\n",
    "            line = line.decode('utf-8')\n",
    "            if line.startswith(\"data: \") and line.strip() != \"data: [DONE]\":\n",
    "                try:\n",
    "                    data = json.loads(line[6:])\n",
    "                    delta = data[\"choices\"][0].get(\"delta\", {})\n",
    "                    if \"content\" in delta:\n",
    "                        print(delta[\"content\"], end=\"\", flush=True)\n",
    "                except:\n",
    "                    pass\n",
    "    print()  # 줄바꿈\n",
    "\n",
    "# 테스트\n",
    "call_openai_streaming(\"Python의 장점 3가지를 설명해줘\")"
   ]
  },
  {
   "cell_type": "markdown",
   "metadata": {},
   "source": [
    "## 6. 실습 과제\n",
    "\n",
    "### Level 1\n",
    "1. temperature를 0.0, 0.5, 1.0, 1.5로 바꿔가며 \"로봇에 대한 이야기\"를 3번씩 생성해보고 차이점 관찰\n",
    "2. max_tokens를 20, 50, 100으로 설정하고 응답 길이 비교\n",
    "3. 시스템 프롬프트를 다양하게 바꿔보기 (해적, 셰익스피어, 과학자 등)"
   ]
  },
  {
   "cell_type": "code",
   "execution_count": null,
   "metadata": {},
   "outputs": [],
   "source": [
    "# 과제 1: Temperature 실험\n",
    "# TODO: 코드 작성\n"
   ]
  },
  {
   "cell_type": "markdown",
   "metadata": {},
   "source": [
    "### Level 2\n",
    "4. 토큰 사용량 기반 비용 계산 함수 만들기 (GPT-3.5: input $0.0015/1K, output $0.002/1K)\n",
    "5. 에러 처리 및 재시도 로직 구현하기"
   ]
  },
  {
   "cell_type": "code",
   "execution_count": null,
   "metadata": {},
   "outputs": [],
   "source": [
    "# 과제 2: 비용 계산\n",
    "def calculate_cost(prompt_tokens, completion_tokens):\n",
    "    # TODO: 구현\n",
    "    pass\n"
   ]
  },
  {
   "cell_type": "markdown",
   "metadata": {},
   "source": [
    "## 다음 단계\n",
    "\n",
    "이제 LangChain으로 이런 작업들을 더 쉽게 해봅시다!\n",
    "\n",
    "👉 [06_langchain_practice.ipynb](06_langchain_practice.ipynb)"
   ]
  }
 ],
 "metadata": {
  "kernelspec": {
   "display_name": "Python 3",
   "language": "python",
   "name": "python3"
  },
  "language_info": {
   "name": "python",
   "version": "3.10.0"
  }
 },
 "nbformat": 4,
 "nbformat_minor": 4
}
